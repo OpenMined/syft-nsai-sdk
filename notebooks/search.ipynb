{
 "cells": [
  {
   "cell_type": "markdown",
   "metadata": {},
   "source": [
    "# SyftBox SDK Development Testing\n",
    "\n",
    "This notebook is for testing and validating the SyftBox SDK during development."
   ]
  },
  {
   "cell_type": "code",
   "execution_count": 1,
   "metadata": {},
   "outputs": [],
   "source": [
    "# Import the SDK\n",
    "import syft_hub as sh\n",
    "import logging"
   ]
  },
  {
   "cell_type": "code",
   "execution_count": 2,
   "metadata": {},
   "outputs": [],
   "source": [
    "# Import client\n",
    "from syft_hub import Client\n",
    "from syft_hub.utils.logger import get_logger"
   ]
  },
  {
   "cell_type": "code",
   "execution_count": 3,
   "metadata": {},
   "outputs": [
    {
     "name": "stderr",
     "output_type": "stream",
     "text": [
      "\u001b[32m2025-10-04 18:30:21 - syft_hub - SUCCESS - Logger initialized successfully!\u001b[0m\n"
     ]
    }
   ],
   "source": [
    "# define utilities\n",
    "logger = get_logger()\n",
    "logging.getLogger('syft_hub').setLevel(logging.INFO)\n",
    "logger.success(\"Logger initialized successfully!\")"
   ]
  },
  {
   "cell_type": "code",
   "execution_count": 4,
   "metadata": {},
   "outputs": [
    {
     "name": "stderr",
     "output_type": "stream",
     "text": [
      "\u001b[34m2025-10-04 18:30:21 - syft_hub.main - INFO - Connected to existing accounting account for callis@openmined.org\u001b[0m\n",
      "\u001b[34m2025-10-04 18:30:21 - syft_hub.main - INFO - Client initialized for callis@openmined.org\u001b[0m\n"
     ]
    }
   ],
   "source": [
    "# Initialize client\n",
    "client = Client()"
   ]
  },
  {
   "cell_type": "code",
   "execution_count": 5,
   "metadata": {},
   "outputs": [
    {
     "name": "stderr",
     "output_type": "stream",
     "text": [
      "\u001b[34m2025-10-04 18:30:21 - syft_hub.main - INFO - Using service: carl-model from datasite: callis@openmined.org\u001b[0m\n"
     ]
    },
    {
     "name": "stdout",
     "output_type": "stream",
     "text": [
      "✓ Response received                                                             \n",
      "\n"
     ]
    }
   ],
   "source": [
    "# search service search_async\n",
    "result = await client.search(\n",
    "    service_name=\"callis@openmined.org/carl-model\",\n",
    "    message=\"What are AI agentic systems?\",\n",
    "    topK=5,\n",
    "    similarity_threshold=0.8\n",
    ")"
   ]
  },
  {
   "cell_type": "code",
   "execution_count": 6,
   "metadata": {},
   "outputs": [
    {
     "name": "stderr",
     "output_type": "stream",
     "text": [
      "\u001b[34m2025-10-04 18:30:24 - syft_hub - INFO - Search result:\n",
      "\n",
      " Search results for: 'What are AI agentic systems?'\n",
      "\n",
      "1. Score: 0.544\n",
      "   er (Wang et al., 2023b) is a good example for agents that use feedback from the simulated environmen...\n",
      "\n",
      "2. Score: 0.539\n",
      "   e agent interacts with the agricultural environment by taking actions in agricultural management and...\n",
      "\n",
      "3. Score: 0.523\n",
      "   in the construction of LLM-based intelligent agents. As shown in §6, we showed three major scenarios...\n",
      "\n",
      "4. Score: 0.522\n",
      "   media in the construction of agents?\n",
      "\n",
      "A lot of work has begun to adopt this approach, like Voyager (...\n",
      "\n",
      "5. Score: 0.517\n",
      "   t https://github.com/ morecry/CharacterEval .\n",
      "\n",
      "## 1 Introduction\n",
      "\n",
      "The development of large language ...\u001b[0m\n"
     ]
    }
   ],
   "source": [
    "# show response\n",
    "logger.info(f\"Search result:\\n\\n {result}\")\n",
    "# logger.info(f\"Search result:\\n\\n {client.format_search_context(result, \"simple\")}\")"
   ]
  },
  {
   "cell_type": "code",
   "execution_count": null,
   "metadata": {},
   "outputs": [],
   "source": []
  }
 ],
 "metadata": {
  "kernelspec": {
   "display_name": "Python 3 (ipykernel)",
   "language": "python",
   "name": "python3"
  },
  "language_info": {
   "codemirror_mode": {
    "name": "ipython",
    "version": 3
   },
   "file_extension": ".py",
   "mimetype": "text/x-python",
   "name": "python",
   "nbconvert_exporter": "python",
   "pygments_lexer": "ipython3",
   "version": "3.12.9"
  }
 },
 "nbformat": 4,
 "nbformat_minor": 4
}
